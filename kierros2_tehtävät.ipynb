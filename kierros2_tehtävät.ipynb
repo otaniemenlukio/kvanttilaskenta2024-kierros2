{
 "cells": [
  {
   "attachments": {},
   "cell_type": "markdown",
   "metadata": {},
   "source": [
    "$$\n",
    "\\renewcommand\\vec[1]{\\bm{#1}}\n",
    "\\newcommand\\abs[1]{\\left\\lvert#1\\right\\rvert}\n",
    "\\newcommand\\bivec[2]{\\begin{pmatrix}#1\\\\#2\\end{pmatrix}}\n",
    "\\newcommand\\hbivec[2]{\\begin{pmatrix}#1&#2\\end{pmatrix}}\n",
    "\\newcommand\\bimatrix[4]{\\begin{bmatrix}#1&#2\\\\#3&#4\\end{bmatrix}}\n",
    "$$\n",
    "\n",
    "# Kierros 2 tehtävät\n",
    "\n",
    "Tämän kierroksen tehtävät koostuvat kahdesta osasta:\n",
    "1. tehtävät 1-5 on tarkoitus tehdä kynällä paperille. Ne saa myös kirjoittaa tietokoneella käyttäen haluamaasi kaavaeditoria, ja kopioida $\\LaTeX$-koodin tähän työkirjaan.\n",
    "   > Kurssilla ei ole tarkoitus oppia kirjoittamaan $\\LaTeX$​ia, jonka takia tehtävät on tarkoitus tehdä paperille.\n",
    "   > Tehtävissä on tarkoituksena että laskenta tapahtuu käsin eikä tietokoneella.\n",
    "2. tehtävät 6-8 sen sijaan tehdään Pythonilla\n",
    "\n",
    "\n",
    "## Tehtävien palautus\n",
    "\n",
    "Palauta\n",
    "1. muokattu `kierros2_tehtävät.ipynb` (tämä työkirja) sekä\n",
    "2. paperille tehdyt tehtävät valokuvina tai PDF-tiedostona\n",
    "\n",
    "[Google Formsiin](https://forms.gle/sZfnPgDEA4M2xrnD7) viimeistään 13.3.2024 klo 16:15."
   ]
  },
  {
   "cell_type": "markdown",
   "metadata": {},
   "source": [
    "## Tehtävä 1\n",
    "\n",
    "Esitä seuraavat vektorit pystyvektorimuodossa toisistaan lineaarisesti riippumattomien vektorien $\\vec{i}$ ja $\\vec{j}$ kannassa. Kirjoita vastauksesi paperille tai $\\LaTeX$​illa allaolevaan lohkoon (kaksoispainalluksella pääset muokkaustilaan).\n",
    "\n",
    "1. $\\vec{v} = \\vec{i}+7\\vec{j}$\n",
    "2. $\\vec{u} = 3\\vec{i}-2\\vec{j}$\n",
    "3. $\\vec{w} = -\\vec{j}+\\pi\\vec{i}$"
   ]
  },
  {
   "cell_type": "markdown",
   "metadata": {},
   "source": [
    "<!-- Jos et halua tehdä tehtäviä paperille, kirjoita LaTeX koodisi $-merkkien sisään tähän lohkoon. Painamalla ESC tai CTRL+ENTER pääset pois muokkaustilasta. -->\n",
    "\n",
    "1.\n",
    "$\n",
    "\\begin{bmatrix}\n",
    "... \\\\\n",
    "...\n",
    "\\end{bmatrix}\n",
    "$"
   ]
  },
  {
   "cell_type": "markdown",
   "metadata": {},
   "source": [
    "## Tehtävä 2\n",
    "\n",
    "Laske\n",
    "\n",
    "1. $-\\frac{1}{2}\\cdot\\bimatrix{-1}{2}{5}{-7}$\n",
    "2. $\\bimatrix{3}{2}{5}{8}+\\bimatrix{-2}{-2}{5}{3}$\n",
    "3. $2\\left(\\bimatrix{2}{5}{1}{3}-\\bimatrix{1}{3}{1}{2}\\right)$"
   ]
  },
  {
   "cell_type": "markdown",
   "metadata": {},
   "source": [
    "<!-- Jos et halua tehdä tehtäviä paperille, kirjoita LaTeX koodisi $-merkkien sisään tähän lohkoon. Painamalla ESC tai CTRL+ENTER pääset pois muokkaustilasta. -->\n",
    "\n",
    "1.\n",
    "$\n",
    "\\begin{bmatrix}\n",
    "... & ... \\\\\n",
    "... & ...\n",
    "\\end{bmatrix}\n",
    "$"
   ]
  },
  {
   "cell_type": "markdown",
   "metadata": {},
   "source": [
    "## Tehtävä 3\n",
    "\n",
    "Laske tai ratkaise\n",
    "\n",
    "1. $\\bimatrix{1}{2}{6}{4}\\bivec{3}{2}$\n",
    "2. $\\bimatrix{2}{5}{1}{7}\\bimatrix{1}{2}{0}{3}$\n",
    "3. Olkoon $\\vec{v}~(\\ne \\vec 0)$ kaksiulotteinen reaaliarvoinen vektori ja $A = \\bimatrix{0}{-1}{1}{0}$. Mikä on vektorien $\\vec v$ ja $A \\vec v$ välinen kulma?\n"
   ]
  },
  {
   "cell_type": "markdown",
   "metadata": {},
   "source": [
    "## Tehtävä 4\n",
    "\n",
    "Laske\n",
    "\n",
    "1. $\\braket{\\phi|\\phi}$, jossa $\\ket{\\phi}=\\bivec 1 0$\n",
    "2. $\\braket{+|Z|+}$, jossa $\\ket + = \\frac 1 {\\sqrt 2} \\bivec 1 1$ ja $Z=\\bimatrix{1}{0}{0}{-1}$\n",
    "3. $\\braket{\\psi|H|\\psi}$, jossa $\\ket \\psi = \\bivec a b$ ja $H=\\frac 1 {\\sqrt 2}\\bimatrix{1}{1}{1}{-1}$"
   ]
  },
  {
   "cell_type": "markdown",
   "metadata": {},
   "source": [
    "<!-- Jos et halua tehdä tehtäviä paperille, kirjoita LaTeX koodisi $-merkkien sisään tähän lohkoon. Painamalla ESC tai CTRL+ENTER pääset pois muokkaustilasta. -->\n",
    "\n",
    "..."
   ]
  },
  {
   "cell_type": "markdown",
   "metadata": {},
   "source": [
    "## Tehtävä 5\n",
    "\n",
    "1. Osoita, että matriisille $X=\\bimatrix{0}{1}{1}{0}$ pätee\n",
    "   $X(X\\vec{v})=\\vec{v}$ kaikille kaksiulotteisille reaalivektoreille $\\vec{v}$.\n",
    "2. Osoita, että 2-ulotteisten reaalimatriisien tulo on liitännäinen, eli\n",
    "   $\\left(\\bimatrix a b c d \\bimatrix e f g h\\right) \\bimatrix p q r s = \\bimatrix a b c d \\left(\\bimatrix e f g h \\bimatrix p q r s\\right)$ kaikilla arvoilla $a,b,c,d,e,f,g,h,p,q,r,s$.\n"
   ]
  },
  {
   "cell_type": "markdown",
   "metadata": {},
   "source": [
    "<!-- Jos et halua tehdä tehtäviä paperille, kirjoita LaTeX koodisi $-merkkien sisään tähän lohkoon. Painamalla ESC tai CTRL+ENTER pääset pois muokkaustilasta. -->\n",
    "\n",
    "..."
   ]
  },
  {
   "attachments": {},
   "cell_type": "markdown",
   "metadata": {},
   "source": [
    "## Tehtävä 6\n",
    "\n",
    "Laske numpyä käyttäen muuttujan\n",
    "\n",
    "1. `q0` arvoksi $H\\ket 0$\n",
    "2. `q1` arvoksi $H\\ket 1$"
   ]
  },
  {
   "cell_type": "code",
   "execution_count": null,
   "metadata": {},
   "outputs": [],
   "source": [
    "from math import sqrt\n",
    "import numpy as np\n",
    "\n",
    "zero = np.matrix([[1],[0]])\n",
    "one = np.matrix([[0],[1]])\n",
    "\n",
    "H = 1/sqrt(2) * np.matrix([[1, 1],[1, -1]])\n",
    "print(\"H-portti =\\n\", H)\n",
    "\n",
    "q0 = ___\n",
    "print(\"q0 =\\n\", q0)\n",
    "\n",
    "q1 = ___\n",
    "print(\"q1 =\\n\", q1)"
   ]
  },
  {
   "attachments": {},
   "cell_type": "markdown",
   "metadata": {},
   "source": [
    "### Tehtävä 7\n",
    "\n",
    "$$\n",
    "\\begin{align*}\n",
    "\\ket 0 &= \\begin{pmatrix} 1 \\\\ 0 \\end{pmatrix} \\\\\n",
    "\\ket 1 &= \\begin{pmatrix} 0 \\\\ 1 \\end{pmatrix}\n",
    "\\end{align*}\n",
    "$$\n",
    "\n",
    "\n",
    "Muodosta numpyllä seuraavat bra-vektorit:\n",
    "$$\n",
    "\\begin{align*}\n",
    "\\bra 0 &= \\begin{pmatrix} 1 & 0 \\end{pmatrix} \\\\\n",
    "\\bra 1 &= \\begin{pmatrix} 0 & 1 \\end{pmatrix}.\n",
    "\\end{align*}\n",
    "$$\n",
    "\n",
    "muuttujiin `bra0` ja `bra1` vastaavasti, ja laske seuraaviin muuttujiin vastaavat arvot\n",
    "\n",
    "1. `q00` = $\\braket {0 | 0}$\n",
    "2. `q01` = $\\braket {0 | 1}$\n",
    "3. `q10` = $\\braket {1 | 0}$\n",
    "4. `q11` = $\\braket {1 | 1}$\n"
   ]
  },
  {
   "cell_type": "code",
   "execution_count": null,
   "metadata": {},
   "outputs": [],
   "source": [
    "zero = np.matrix([[1], [0]])\n",
    "one = np.matrix([[0], [1]])\n",
    "\n",
    "bra0 = ___\n",
    "print(\"bra0 =\\n\", bra0)\n",
    "bra1 = ___\n",
    "print(\"bra1 =\\n\", bra1)\n",
    "\n",
    "q00 = ___\n",
    "assert isinstance(q00,np.int64), \"q00 täytyy olla luku, eikä esim. matriisi\"\n",
    "print(\"q00 =\", q00)\n",
    "\n",
    "q01 = ___\n",
    "assert isinstance(q01,np.int64), \"q01 täytyy olla luku, eikä esim. matriisi\"\n",
    "print(\"q01 =\", q01)\n",
    "\n",
    "q10 = ___\n",
    "assert isinstance(q10,np.int64), \"q10 täytyy olla luku, eikä esim. matriisi\"\n",
    "print(\"q10 =\", q10)\n",
    "\n",
    "q11 = ___\n",
    "assert isinstance(q11,np.int64), \"q11 täytyy olla luku, eikä esim. matriisi\"\n",
    "print(\"q11 =\", q11)\n"
   ]
  },
  {
   "attachments": {},
   "cell_type": "markdown",
   "metadata": {},
   "source": [
    "### Tehtävä 8\n",
    "\n",
    "Seuraavalla kaavalla voidaan laskea todennäköisyys, että kubitti $\\ket \\psi$ havaitaan tilassa $\\ket x$.\n",
    "$$\n",
    "P(\\ket x)= |\\braket {x | \\psi}|^2 . \n",
    "$$\n",
    "\n",
    "1. Olkoon kubitti alkutilassa $\\ket +$. Laske todennäköisyys, että kubitin tilan mittauksessa saadaan mittaustulokseksi eli kubitin tilaksi $\\ket 0$.\n",
    "2. Laske todennäköisyys, että kubitti tilassa $\\ket 0$ havaitaan tilassa $\\ket +$.\n",
    "3. Kirjoita lyhyt tulkinta Python-kommenttiin\n"
   ]
  },
  {
   "cell_type": "code",
   "execution_count": null,
   "metadata": {},
   "outputs": [],
   "source": [
    "zero = np.matrix([[1], [0]])\n",
    "one = np.matrix([[0], [1]])\n",
    "\n",
    "plus = 1 / np.sqrt(2) * (zero + one)\n",
    "minus = 1 / np.sqrt(2) * (zero - one)\n",
    "\n",
    "\n",
    "# c-kohdan vastauksesi:\n",
    "# ..."
   ]
  },
  {
   "attachments": {},
   "cell_type": "markdown",
   "metadata": {},
   "source": [
    "## Tehtävä 8\n",
    "\n",
    "Tee seuraavaan koodilohkoon yhden kubitin kvanttipiiri, jossa operoit kubittiin ensiksi $X$-portilla, ja sitten $H$-portilla. Kubitin lopputila pitäisi olla $\\ket -$.\n",
    "\n",
    "Hadamardin operaattorille löytyy qiskitistä portti koodilla `h`.\n"
   ]
  },
  {
   "cell_type": "code",
   "execution_count": null,
   "metadata": {},
   "outputs": [],
   "source": [
    "import numpy as np\n",
    "from qiskit import *\n",
    "from qiskit.quantum_info import *\n",
    "from qiskit.visualization import plot_bloch_multivector\n",
    "\n",
    "# Luo yhden kubitin kvanttipiiri\n",
    "# circuit = ____\n",
    "\n",
    "\n",
    "# Lisää portti X\n",
    "# ____\n",
    "\n",
    "# Lisää portti H\n",
    "# ____\n",
    "\n",
    "# Piirretään lopuksi piiri\n",
    "display(circuit.draw(output=\"mpl\", scale=2))\n",
    "result = execute(circuit, Aer.get_backend(\"statevector_simulator\")).result()\n",
    "out_state = result.get_statevector()\n",
    "plot_bloch_multivector(out_state)"
   ]
  },
  {
   "cell_type": "markdown",
   "metadata": {},
   "source": [
    "## Bonustehtäviä\n",
    "\n",
    "### Bonus 1\n",
    "\n",
    "Palataksemme tehtävään 4, etsi arvot $a, b$, joille pätee\n",
    "\n",
    "$$\n",
    "\\braket{\\psi|H|\\psi}\n",
    "$$\n",
    "\n",
    "jossa $\\ket \\psi = \\bivec a b$, sekä $|a|^2 + |b|^2 = 1$."
   ]
  }
 ],
 "metadata": {
  "kernelspec": {
   "display_name": "quantum_computing",
   "language": "python",
   "name": "python3"
  },
  "language_info": {
   "codemirror_mode": {
    "name": "ipython",
    "version": 3
   },
   "file_extension": ".py",
   "mimetype": "text/x-python",
   "name": "python",
   "nbconvert_exporter": "python",
   "pygments_lexer": "ipython3",
   "version": "3.11.7"
  },
  "orig_nbformat": 4,
  "vscode": {
   "interpreter": {
    "hash": "c599cb660db903d48c4a798280cd684b1e61eb2f03221ce98a1665e092e9537c"
   }
  }
 },
 "nbformat": 4,
 "nbformat_minor": 2
}
